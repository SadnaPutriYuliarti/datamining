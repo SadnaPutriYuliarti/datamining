{
  "nbformat": 4,
  "nbformat_minor": 0,
  "metadata": {
    "colab": {
      "provenance": [],
      "authorship_tag": "ABX9TyNm5IS3NUlXydnZ7lnoKmQr",
      "include_colab_link": true
    },
    "kernelspec": {
      "name": "python3",
      "display_name": "Python 3"
    },
    "language_info": {
      "name": "python"
    }
  },
  "cells": [
    {
      "cell_type": "markdown",
      "metadata": {
        "id": "view-in-github",
        "colab_type": "text"
      },
      "source": [
        "<a href=\"https://colab.research.google.com/github/SadnaPutriYuliarti/datamining/blob/main/NaiveBayes_G_231_22_0090.ipynb\" target=\"_parent\"><img src=\"https://colab.research.google.com/assets/colab-badge.svg\" alt=\"Open In Colab\"/></a>"
      ]
    },
    {
      "cell_type": "code",
      "execution_count": 1,
      "metadata": {
        "colab": {
          "base_uri": "https://localhost:8080/"
        },
        "id": "jZdzUk2i8zRs",
        "outputId": "ac581d45-aa87-42ca-d40a-4281ce2cf6d9"
      },
      "outputs": [
        {
          "output_type": "stream",
          "name": "stdout",
          "text": [
            "(1797, 8, 8)\n",
            "[[[ 0.  0.  5. ...  1.  0.  0.]\n",
            "  [ 0.  0. 13. ... 15.  5.  0.]\n",
            "  [ 0.  3. 15. ... 11.  8.  0.]\n",
            "  ...\n",
            "  [ 0.  4. 11. ... 12.  7.  0.]\n",
            "  [ 0.  2. 14. ... 12.  0.  0.]\n",
            "  [ 0.  0.  6. ...  0.  0.  0.]]\n",
            "\n",
            " [[ 0.  0.  0. ...  5.  0.  0.]\n",
            "  [ 0.  0.  0. ...  9.  0.  0.]\n",
            "  [ 0.  0.  3. ...  6.  0.  0.]\n",
            "  ...\n",
            "  [ 0.  0.  1. ...  6.  0.  0.]\n",
            "  [ 0.  0.  1. ...  6.  0.  0.]\n",
            "  [ 0.  0.  0. ... 10.  0.  0.]]\n",
            "\n",
            " [[ 0.  0.  0. ... 12.  0.  0.]\n",
            "  [ 0.  0.  3. ... 14.  0.  0.]\n",
            "  [ 0.  0.  8. ... 16.  0.  0.]\n",
            "  ...\n",
            "  [ 0.  9. 16. ...  0.  0.  0.]\n",
            "  [ 0.  3. 13. ... 11.  5.  0.]\n",
            "  [ 0.  0.  0. ... 16.  9.  0.]]\n",
            "\n",
            " ...\n",
            "\n",
            " [[ 0.  0.  1. ...  1.  0.  0.]\n",
            "  [ 0.  0. 13. ...  2.  1.  0.]\n",
            "  [ 0.  0. 16. ... 16.  5.  0.]\n",
            "  ...\n",
            "  [ 0.  0. 16. ... 15.  0.  0.]\n",
            "  [ 0.  0. 15. ... 16.  0.  0.]\n",
            "  [ 0.  0.  2. ...  6.  0.  0.]]\n",
            "\n",
            " [[ 0.  0.  2. ...  0.  0.  0.]\n",
            "  [ 0.  0. 14. ... 15.  1.  0.]\n",
            "  [ 0.  4. 16. ... 16.  7.  0.]\n",
            "  ...\n",
            "  [ 0.  0.  0. ... 16.  2.  0.]\n",
            "  [ 0.  0.  4. ... 16.  2.  0.]\n",
            "  [ 0.  0.  5. ... 12.  0.  0.]]\n",
            "\n",
            " [[ 0.  0. 10. ...  1.  0.  0.]\n",
            "  [ 0.  2. 16. ...  1.  0.  0.]\n",
            "  [ 0.  0. 15. ... 15.  0.  0.]\n",
            "  ...\n",
            "  [ 0.  4. 16. ... 16.  6.  0.]\n",
            "  [ 0.  8. 16. ... 16.  8.  0.]\n",
            "  [ 0.  1.  8. ... 12.  1.  0.]]]\n"
          ]
        }
      ],
      "source": [
        "# 1 Import dataset\n",
        "from sklearn.datasets import load_digits\n",
        "digits = load_digits()\n",
        "print(digits.images.shape) # (1797, 8, 8)\n",
        "print(digits.images) # Akan menghasilkan matrix of numbers"
      ]
    },
    {
      "cell_type": "code",
      "source": [],
      "metadata": {
        "id": "iZa2qjJV94V9"
      },
      "execution_count": null,
      "outputs": []
    },
    {
      "cell_type": "code",
      "source": [
        "# 2. Memisahkan feature matrix (X) dengan target label (Y)\n",
        "X = digits.data\n",
        "Y = digits.target"
      ],
      "metadata": {
        "id": "2MEatI169FJl"
      },
      "execution_count": 2,
      "outputs": []
    },
    {
      "cell_type": "code",
      "source": [
        "# 3. splitting\n",
        "from sklearn.model_selection import train_test_split\n",
        "Xtrain, Xtest, Ytrain, Ytest = train_test_split(X, Y, random_state=0)"
      ],
      "metadata": {
        "id": "kVl4AT9L9Htk"
      },
      "execution_count": 3,
      "outputs": []
    },
    {
      "cell_type": "code",
      "source": [
        "# 4. Training model\n",
        "from sklearn.naive_bayes import GaussianNB\n",
        "model = GaussianNB()\n",
        "model.fit(Xtrain, Ytrain)\n",
        "# Training model dengan method fit()\n",
        "y_model = model.predict(Xtest)"
      ],
      "metadata": {
        "id": "ZmEPBmL99KlS"
      },
      "execution_count": 4,
      "outputs": []
    },
    {
      "cell_type": "code",
      "source": [
        "# 5. Melihat skor akurasi dengan data Ytest\n",
        "from sklearn.metrics import accuracy_score\n",
        "print(accuracy_score(Ytest, y_model))\n",
        "# uji ini menghasilkan 0.8333333333333334"
      ],
      "metadata": {
        "colab": {
          "base_uri": "https://localhost:8080/"
        },
        "id": "F76C8PKU9Om_",
        "outputId": "aca9e9e3-085f-416e-a53f-b314ecbec759"
      },
      "execution_count": 5,
      "outputs": [
        {
          "output_type": "stream",
          "name": "stdout",
          "text": [
            "0.8333333333333334\n"
          ]
        }
      ]
    }
  ]
}